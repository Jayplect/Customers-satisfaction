{
 "cells": [
  {
   "attachments": {},
   "cell_type": "markdown",
   "metadata": {},
   "source": [
    "## Background\n",
    "\n",
    "`I conduted this project for one of the fastest growing startups, XYG (not real name of company) in the logistics and delivery domain. Company XYG works with several partners and make on-demand delivery to their customers. During the COVID-19 pandemic, they were faced with several different challenges and everyday they tried to address these challenges. As a growing startup, with a global expansion strategy XYG's primary strategy was to make their customers happy and the only way to do that was to measure the happiness of each of their customer. They were intereted in predicting what made their customers happy or unhappy so as to take the necessary actions to improve customer's satisfaction. Getting feedback from their customers was not easy either, but they had a culture of getting constant feedbacks from their customers. They did a survey to a select customer cohort. I was presented with a subset of this data with the goal to predict if a customer is happy or not based on the answers they give to questions asked.`"
   ]
  },
  {
   "attachments": {},
   "cell_type": "markdown",
   "metadata": {},
   "source": [
    "## Import Libraries"
   ]
  },
  {
   "cell_type": "code",
   "execution_count": 1,
   "metadata": {},
   "outputs": [],
   "source": [
    "# data processing\n",
    "import pandas as pd\n",
    "\n",
    "# data visualization\n",
    "import matplotlib.pyplot as plt\n",
    "import seaborn as sns\n",
    "\n",
    "# data wrangling\n",
    "from scipy.stats import randint as sp_randint\n",
    "import numpy as np\n",
    "\n",
    "# Algorithms\n",
    "from sklearn.model_selection import train_test_split\n",
    "from sklearn.linear_model import LogisticRegression\n",
    "from sklearn import linear_model\n",
    "from sklearn.ensemble import RandomForestClassifier, GradientBoostingClassifier, ExtraTreesClassifier\n",
    "from sklearn.linear_model import Perceptron\n",
    "from sklearn.linear_model import SGDClassifier\n",
    "from sklearn.tree import DecisionTreeClassifier\n",
    "from sklearn.svm import SVC, LinearSVC\n",
    "from sklearn.metrics import accuracy_score, confusion_matrix\n",
    "from sklearn.neighbors import KNeighborsClassifier\n",
    "from sklearn.metrics import balanced_accuracy_score\n",
    "from sklearn.model_selection import RandomizedSearchCV, cross_val_score"
   ]
  },
  {
   "attachments": {},
   "cell_type": "markdown",
   "metadata": {},
   "source": [
    "#### Load the Data..."
   ]
  },
  {
   "cell_type": "code",
   "execution_count": 2,
   "metadata": {},
   "outputs": [],
   "source": [
    "# get the data\n",
    "survey_df = pd.read_csv(\"ACME-HappinessSurvey2020.csv\")"
   ]
  },
  {
   "attachments": {},
   "cell_type": "markdown",
   "metadata": {},
   "source": [
    "## Exploratory Data Analysis"
   ]
  },
  {
   "cell_type": "code",
   "execution_count": 3,
   "metadata": {},
   "outputs": [
    {
     "data": {
      "text/html": [
       "<div>\n",
       "<style scoped>\n",
       "    .dataframe tbody tr th:only-of-type {\n",
       "        vertical-align: middle;\n",
       "    }\n",
       "\n",
       "    .dataframe tbody tr th {\n",
       "        vertical-align: top;\n",
       "    }\n",
       "\n",
       "    .dataframe thead th {\n",
       "        text-align: right;\n",
       "    }\n",
       "</style>\n",
       "<table border=\"1\" class=\"dataframe\">\n",
       "  <thead>\n",
       "    <tr style=\"text-align: right;\">\n",
       "      <th></th>\n",
       "      <th>Y</th>\n",
       "      <th>X1</th>\n",
       "      <th>X2</th>\n",
       "      <th>X3</th>\n",
       "      <th>X4</th>\n",
       "      <th>X5</th>\n",
       "      <th>X6</th>\n",
       "    </tr>\n",
       "  </thead>\n",
       "  <tbody>\n",
       "    <tr>\n",
       "      <th>0</th>\n",
       "      <td>0</td>\n",
       "      <td>3</td>\n",
       "      <td>3</td>\n",
       "      <td>3</td>\n",
       "      <td>4</td>\n",
       "      <td>2</td>\n",
       "      <td>4</td>\n",
       "    </tr>\n",
       "    <tr>\n",
       "      <th>1</th>\n",
       "      <td>0</td>\n",
       "      <td>3</td>\n",
       "      <td>2</td>\n",
       "      <td>3</td>\n",
       "      <td>5</td>\n",
       "      <td>4</td>\n",
       "      <td>3</td>\n",
       "    </tr>\n",
       "    <tr>\n",
       "      <th>2</th>\n",
       "      <td>1</td>\n",
       "      <td>5</td>\n",
       "      <td>3</td>\n",
       "      <td>3</td>\n",
       "      <td>3</td>\n",
       "      <td>3</td>\n",
       "      <td>5</td>\n",
       "    </tr>\n",
       "    <tr>\n",
       "      <th>3</th>\n",
       "      <td>0</td>\n",
       "      <td>5</td>\n",
       "      <td>4</td>\n",
       "      <td>3</td>\n",
       "      <td>3</td>\n",
       "      <td>3</td>\n",
       "      <td>5</td>\n",
       "    </tr>\n",
       "    <tr>\n",
       "      <th>4</th>\n",
       "      <td>0</td>\n",
       "      <td>5</td>\n",
       "      <td>4</td>\n",
       "      <td>3</td>\n",
       "      <td>3</td>\n",
       "      <td>3</td>\n",
       "      <td>5</td>\n",
       "    </tr>\n",
       "  </tbody>\n",
       "</table>\n",
       "</div>"
      ],
      "text/plain": [
       "   Y  X1  X2  X3  X4  X5  X6\n",
       "0  0   3   3   3   4   2   4\n",
       "1  0   3   2   3   5   4   3\n",
       "2  1   5   3   3   3   3   5\n",
       "3  0   5   4   3   3   3   5\n",
       "4  0   5   4   3   3   3   5"
      ]
     },
     "execution_count": 3,
     "metadata": {},
     "output_type": "execute_result"
    }
   ],
   "source": [
    "# Display the data\n",
    "survey_df.head()"
   ]
  },
  {
   "cell_type": "code",
   "execution_count": 4,
   "metadata": {},
   "outputs": [
    {
     "data": {
      "text/plain": [
       "Y     int64\n",
       "X1    int64\n",
       "X2    int64\n",
       "X3    int64\n",
       "X4    int64\n",
       "X5    int64\n",
       "X6    int64\n",
       "dtype: object"
      ]
     },
     "execution_count": 4,
     "metadata": {},
     "output_type": "execute_result"
    }
   ],
   "source": [
    "# Display data type\n",
    "survey_df.dtypes"
   ]
  },
  {
   "cell_type": "code",
   "execution_count": 5,
   "metadata": {},
   "outputs": [
    {
     "data": {
      "text/plain": [
       "Y     0\n",
       "X1    0\n",
       "X2    0\n",
       "X3    0\n",
       "X4    0\n",
       "X5    0\n",
       "X6    0\n",
       "dtype: int64"
      ]
     },
     "execution_count": 5,
     "metadata": {},
     "output_type": "execute_result"
    }
   ],
   "source": [
    "# Find missing values\n",
    "survey_df.isna().sum()"
   ]
  },
  {
   "attachments": {},
   "cell_type": "markdown",
   "metadata": {},
   "source": [
    "` We can already observe that there are no missing values in the dataset and that all the columns are integers. `"
   ]
  },
  {
   "attachments": {},
   "cell_type": "markdown",
   "metadata": {},
   "source": [
    "### A description of the features is listed below:\n",
    "\n",
    "---\n",
    "\n",
    "   Attributes X1 to X6 indicate the responses for each question and have values from 1 to 5 where the smaller number indicates less and the higher number indicates more towards the answer.\n",
    "   \n",
    "      Y = target attribute (Y) with values indicating 0 (unhappy) and 1 (happy) customers\n",
    "      X1 = my order was delivered on time\n",
    "      X2 = contents of my order was as I expected\n",
    "      X3 = I ordered everything I wanted to order\n",
    "      X4 = I paid a good price for my order\n",
    "      X5 = I am satisfied with my courier\n",
    "      X6 = the app makes ordering easy for me"
   ]
  },
  {
   "cell_type": "code",
   "execution_count": 6,
   "metadata": {},
   "outputs": [
    {
     "data": {
      "text/html": [
       "<div>\n",
       "<style scoped>\n",
       "    .dataframe tbody tr th:only-of-type {\n",
       "        vertical-align: middle;\n",
       "    }\n",
       "\n",
       "    .dataframe tbody tr th {\n",
       "        vertical-align: top;\n",
       "    }\n",
       "\n",
       "    .dataframe thead th {\n",
       "        text-align: right;\n",
       "    }\n",
       "</style>\n",
       "<table border=\"1\" class=\"dataframe\">\n",
       "  <thead>\n",
       "    <tr style=\"text-align: right;\">\n",
       "      <th></th>\n",
       "      <th>Y</th>\n",
       "      <th>X1</th>\n",
       "      <th>X2</th>\n",
       "      <th>X3</th>\n",
       "      <th>X4</th>\n",
       "      <th>X5</th>\n",
       "      <th>X6</th>\n",
       "    </tr>\n",
       "  </thead>\n",
       "  <tbody>\n",
       "    <tr>\n",
       "      <th>count</th>\n",
       "      <td>126.000000</td>\n",
       "      <td>126.000000</td>\n",
       "      <td>126.000000</td>\n",
       "      <td>126.000000</td>\n",
       "      <td>126.000000</td>\n",
       "      <td>126.000000</td>\n",
       "      <td>126.000000</td>\n",
       "    </tr>\n",
       "    <tr>\n",
       "      <th>mean</th>\n",
       "      <td>0.547619</td>\n",
       "      <td>4.333333</td>\n",
       "      <td>2.531746</td>\n",
       "      <td>3.309524</td>\n",
       "      <td>3.746032</td>\n",
       "      <td>3.650794</td>\n",
       "      <td>4.253968</td>\n",
       "    </tr>\n",
       "    <tr>\n",
       "      <th>std</th>\n",
       "      <td>0.499714</td>\n",
       "      <td>0.800000</td>\n",
       "      <td>1.114892</td>\n",
       "      <td>1.023440</td>\n",
       "      <td>0.875776</td>\n",
       "      <td>1.147641</td>\n",
       "      <td>0.809311</td>\n",
       "    </tr>\n",
       "    <tr>\n",
       "      <th>min</th>\n",
       "      <td>0.000000</td>\n",
       "      <td>1.000000</td>\n",
       "      <td>1.000000</td>\n",
       "      <td>1.000000</td>\n",
       "      <td>1.000000</td>\n",
       "      <td>1.000000</td>\n",
       "      <td>1.000000</td>\n",
       "    </tr>\n",
       "    <tr>\n",
       "      <th>25%</th>\n",
       "      <td>0.000000</td>\n",
       "      <td>4.000000</td>\n",
       "      <td>2.000000</td>\n",
       "      <td>3.000000</td>\n",
       "      <td>3.000000</td>\n",
       "      <td>3.000000</td>\n",
       "      <td>4.000000</td>\n",
       "    </tr>\n",
       "    <tr>\n",
       "      <th>50%</th>\n",
       "      <td>1.000000</td>\n",
       "      <td>5.000000</td>\n",
       "      <td>3.000000</td>\n",
       "      <td>3.000000</td>\n",
       "      <td>4.000000</td>\n",
       "      <td>4.000000</td>\n",
       "      <td>4.000000</td>\n",
       "    </tr>\n",
       "    <tr>\n",
       "      <th>75%</th>\n",
       "      <td>1.000000</td>\n",
       "      <td>5.000000</td>\n",
       "      <td>3.000000</td>\n",
       "      <td>4.000000</td>\n",
       "      <td>4.000000</td>\n",
       "      <td>4.000000</td>\n",
       "      <td>5.000000</td>\n",
       "    </tr>\n",
       "    <tr>\n",
       "      <th>max</th>\n",
       "      <td>1.000000</td>\n",
       "      <td>5.000000</td>\n",
       "      <td>5.000000</td>\n",
       "      <td>5.000000</td>\n",
       "      <td>5.000000</td>\n",
       "      <td>5.000000</td>\n",
       "      <td>5.000000</td>\n",
       "    </tr>\n",
       "  </tbody>\n",
       "</table>\n",
       "</div>"
      ],
      "text/plain": [
       "                Y          X1          X2          X3          X4          X5  \\\n",
       "count  126.000000  126.000000  126.000000  126.000000  126.000000  126.000000   \n",
       "mean     0.547619    4.333333    2.531746    3.309524    3.746032    3.650794   \n",
       "std      0.499714    0.800000    1.114892    1.023440    0.875776    1.147641   \n",
       "min      0.000000    1.000000    1.000000    1.000000    1.000000    1.000000   \n",
       "25%      0.000000    4.000000    2.000000    3.000000    3.000000    3.000000   \n",
       "50%      1.000000    5.000000    3.000000    3.000000    4.000000    4.000000   \n",
       "75%      1.000000    5.000000    3.000000    4.000000    4.000000    4.000000   \n",
       "max      1.000000    5.000000    5.000000    5.000000    5.000000    5.000000   \n",
       "\n",
       "               X6  \n",
       "count  126.000000  \n",
       "mean     4.253968  \n",
       "std      0.809311  \n",
       "min      1.000000  \n",
       "25%      4.000000  \n",
       "50%      4.000000  \n",
       "75%      5.000000  \n",
       "max      5.000000  "
      ]
     },
     "execution_count": 6,
     "metadata": {},
     "output_type": "execute_result"
    }
   ],
   "source": [
    "# display general statistics of data\n",
    "survey_df.describe()"
   ]
  },
  {
   "attachments": {},
   "cell_type": "markdown",
   "metadata": {},
   "source": [
    "`From the statistics above, in terms of ordered content, most of the customers expectations were sort of dashed. This metric received the lowest average in terms of satisfaction (2.5)`"
   ]
  },
  {
   "cell_type": "code",
   "execution_count": 7,
   "metadata": {},
   "outputs": [
    {
     "data": {
      "text/plain": [
       "Index(['Y', 'X1', 'X2', 'X3', 'X4', 'X5', 'X6'], dtype='object')"
      ]
     },
     "execution_count": 7,
     "metadata": {},
     "output_type": "execute_result"
    }
   ],
   "source": [
    "# show column names\n",
    "survey_df.columns"
   ]
  },
  {
   "cell_type": "code",
   "execution_count": 8,
   "metadata": {},
   "outputs": [],
   "source": [
    "# create a correlation matrix\n",
    "corr_matrix = survey_df.corr()"
   ]
  },
  {
   "cell_type": "code",
   "execution_count": 9,
   "metadata": {},
   "outputs": [
    {
     "data": {
      "image/png": "[encoded data removed]",
      "text/plain": [
       "<Figure size 432x288 with 2 Axes>"
      ]
     },
     "metadata": {
      "needs_background": "light"
     },
     "output_type": "display_data"
    }
   ],
   "source": [
    "# Visual representation of correlation matrix\n",
    "sns.heatmap(corr_matrix, annot=True)\n",
    "plt.show()"
   ]
  },
  {
   "cell_type": "code",
   "execution_count": 10,
   "metadata": {},
   "outputs": [],
   "source": [
    "# Filter the unhappy and happy customers\n",
    "unhappy = survey_df.loc[survey_df[\"Y\"]==0, :]\n",
    "happy = survey_df.loc[survey_df[\"Y\"]==1,:]"
   ]
  },
  {
   "cell_type": "code",
   "execution_count": 11,
   "metadata": {},
   "outputs": [
    {
     "name": "stderr",
     "output_type": "stream",
     "text": [
      "c:\\Users\\evans\\anaconda3\\envs\\PythonData\\lib\\site-packages\\ipykernel_launcher.py:3: UserWarning: \n",
      "\n",
      "`distplot` is a deprecated function and will be removed in seaborn v0.14.0.\n",
      "\n",
      "Please adapt your code to use either `displot` (a figure-level function with\n",
      "similar flexibility) or `histplot` (an axes-level function for histograms).\n",
      "\n",
      "For a guide to updating your code to use the new functions, please see\n",
      "https://gist.github.com/mwaskom/de44147ed2974457ad6372750bbe5751\n",
      "\n",
      "  This is separate from the ipykernel package so we can avoid doing imports until\n",
      "c:\\Users\\evans\\anaconda3\\envs\\PythonData\\lib\\site-packages\\ipykernel_launcher.py:4: UserWarning: \n",
      "\n",
      "`distplot` is a deprecated function and will be removed in seaborn v0.14.0.\n",
      "\n",
      "Please adapt your code to use either `displot` (a figure-level function with\n",
      "similar flexibility) or `histplot` (an axes-level function for histograms).\n",
      "\n",
      "For a guide to updating your code to use the new functions, please see\n",
      "https://gist.github.com/mwaskom/de44147ed2974457ad6372750bbe5751\n",
      "\n",
      "  after removing the cwd from sys.path.\n",
      "c:\\Users\\evans\\anaconda3\\envs\\PythonData\\lib\\site-packages\\ipykernel_launcher.py:6: UserWarning: \n",
      "\n",
      "`distplot` is a deprecated function and will be removed in seaborn v0.14.0.\n",
      "\n",
      "Please adapt your code to use either `displot` (a figure-level function with\n",
      "similar flexibility) or `histplot` (an axes-level function for histograms).\n",
      "\n",
      "For a guide to updating your code to use the new functions, please see\n",
      "https://gist.github.com/mwaskom/de44147ed2974457ad6372750bbe5751\n",
      "\n",
      "  \n",
      "c:\\Users\\evans\\anaconda3\\envs\\PythonData\\lib\\site-packages\\ipykernel_launcher.py:7: UserWarning: \n",
      "\n",
      "`distplot` is a deprecated function and will be removed in seaborn v0.14.0.\n",
      "\n",
      "Please adapt your code to use either `displot` (a figure-level function with\n",
      "similar flexibility) or `histplot` (an axes-level function for histograms).\n",
      "\n",
      "For a guide to updating your code to use the new functions, please see\n",
      "https://gist.github.com/mwaskom/de44147ed2974457ad6372750bbe5751\n",
      "\n",
      "  import sys\n",
      "c:\\Users\\evans\\anaconda3\\envs\\PythonData\\lib\\site-packages\\ipykernel_launcher.py:9: UserWarning: \n",
      "\n",
      "`distplot` is a deprecated function and will be removed in seaborn v0.14.0.\n",
      "\n",
      "Please adapt your code to use either `displot` (a figure-level function with\n",
      "similar flexibility) or `histplot` (an axes-level function for histograms).\n",
      "\n",
      "For a guide to updating your code to use the new functions, please see\n",
      "https://gist.github.com/mwaskom/de44147ed2974457ad6372750bbe5751\n",
      "\n",
      "  if __name__ == '__main__':\n",
      "c:\\Users\\evans\\anaconda3\\envs\\PythonData\\lib\\site-packages\\ipykernel_launcher.py:10: UserWarning: \n",
      "\n",
      "`distplot` is a deprecated function and will be removed in seaborn v0.14.0.\n",
      "\n",
      "Please adapt your code to use either `displot` (a figure-level function with\n",
      "similar flexibility) or `histplot` (an axes-level function for histograms).\n",
      "\n",
      "For a guide to updating your code to use the new functions, please see\n",
      "https://gist.github.com/mwaskom/de44147ed2974457ad6372750bbe5751\n",
      "\n",
      "  # Remove the CWD from sys.path while we load stuff.\n",
      "c:\\Users\\evans\\anaconda3\\envs\\PythonData\\lib\\site-packages\\ipykernel_launcher.py:12: UserWarning: \n",
      "\n",
      "`distplot` is a deprecated function and will be removed in seaborn v0.14.0.\n",
      "\n",
      "Please adapt your code to use either `displot` (a figure-level function with\n",
      "similar flexibility) or `histplot` (an axes-level function for histograms).\n",
      "\n",
      "For a guide to updating your code to use the new functions, please see\n",
      "https://gist.github.com/mwaskom/de44147ed2974457ad6372750bbe5751\n",
      "\n",
      "  if sys.path[0] == '':\n",
      "c:\\Users\\evans\\anaconda3\\envs\\PythonData\\lib\\site-packages\\ipykernel_launcher.py:13: UserWarning: \n",
      "\n",
      "`distplot` is a deprecated function and will be removed in seaborn v0.14.0.\n",
      "\n",
      "Please adapt your code to use either `displot` (a figure-level function with\n",
      "similar flexibility) or `histplot` (an axes-level function for histograms).\n",
      "\n",
      "For a guide to updating your code to use the new functions, please see\n",
      "https://gist.github.com/mwaskom/de44147ed2974457ad6372750bbe5751\n",
      "\n",
      "  del sys.path[0]\n",
      "c:\\Users\\evans\\anaconda3\\envs\\PythonData\\lib\\site-packages\\ipykernel_launcher.py:15: UserWarning: \n",
      "\n",
      "`distplot` is a deprecated function and will be removed in seaborn v0.14.0.\n",
      "\n",
      "Please adapt your code to use either `displot` (a figure-level function with\n",
      "similar flexibility) or `histplot` (an axes-level function for histograms).\n",
      "\n",
      "For a guide to updating your code to use the new functions, please see\n",
      "https://gist.github.com/mwaskom/de44147ed2974457ad6372750bbe5751\n",
      "\n",
      "  from ipykernel import kernelapp as app\n",
      "c:\\Users\\evans\\anaconda3\\envs\\PythonData\\lib\\site-packages\\ipykernel_launcher.py:16: UserWarning: \n",
      "\n",
      "`distplot` is a deprecated function and will be removed in seaborn v0.14.0.\n",
      "\n",
      "Please adapt your code to use either `displot` (a figure-level function with\n",
      "similar flexibility) or `histplot` (an axes-level function for histograms).\n",
      "\n",
      "For a guide to updating your code to use the new functions, please see\n",
      "https://gist.github.com/mwaskom/de44147ed2974457ad6372750bbe5751\n",
      "\n",
      "  app.launch_new_instance()\n",
      "c:\\Users\\evans\\anaconda3\\envs\\PythonData\\lib\\site-packages\\ipykernel_launcher.py:18: UserWarning: \n",
      "\n",
      "`distplot` is a deprecated function and will be removed in seaborn v0.14.0.\n",
      "\n",
      "Please adapt your code to use either `displot` (a figure-level function with\n",
      "similar flexibility) or `histplot` (an axes-level function for histograms).\n",
      "\n",
      "For a guide to updating your code to use the new functions, please see\n",
      "https://gist.github.com/mwaskom/de44147ed2974457ad6372750bbe5751\n",
      "\n",
      "c:\\Users\\evans\\anaconda3\\envs\\PythonData\\lib\\site-packages\\ipykernel_launcher.py:19: UserWarning: \n",
      "\n",
      "`distplot` is a deprecated function and will be removed in seaborn v0.14.0.\n",
      "\n",
      "Please adapt your code to use either `displot` (a figure-level function with\n",
      "similar flexibility) or `histplot` (an axes-level function for histograms).\n",
      "\n",
      "For a guide to updating your code to use the new functions, please see\n",
      "https://gist.github.com/mwaskom/de44147ed2974457ad6372750bbe5751\n",
      "\n"
     ]
    },
    {
     "data": {
      "image/png": "[encoded data removed]",
      "text/plain": [
       "<Figure size 1080x720 with 6 Axes>"
      ]
     },
     "metadata": {
      "needs_background": "light"
     },
     "output_type": "display_data"
    }
   ],
   "source": [
    "# create a histogram distribution of all features according to customers satisfaction\n",
    "fig, axes = plt.subplots(nrows=2, ncols=3, figsize=(15,10))\n",
    "ax = sns.distplot(unhappy[\"X1\"], label = \"unhappy\", kde=False, bins =5, ax = axes[0,0])\n",
    "ax = sns.distplot(happy[\"X1\"], label = \"happy\", kde=False, bins =10, ax = axes[0,0])\n",
    "ax.legend()\n",
    "ax = sns.distplot(unhappy[\"X2\"], label = \"unhappy\", kde=False, bins =5, ax = axes[0,1])\n",
    "ax = sns.distplot(happy[\"X2\"], label = \"happy\", kde=False, bins =10, ax = axes[0,1])\n",
    "ax.legend()\n",
    "ax = sns.distplot(unhappy[\"X3\"], label = \"unhappy\", kde=False, bins =5, ax = axes[0,2])\n",
    "ax = sns.distplot(happy[\"X3\"], label = \"happy\", kde=False, bins =10, ax = axes[0,2])\n",
    "ax.legend()\n",
    "ax = sns.distplot(unhappy[\"X4\"], label = \"unhappy\", kde=False, bins =5, ax = axes[1,0])\n",
    "ax = sns.distplot(happy[\"X4\"], label = \"happy\", kde=False, bins =10, ax = axes[1,0])\n",
    "ax.legend()\n",
    "ax = sns.distplot(unhappy[\"X5\"], label = \"unhappy\", kde=False, bins =5, ax = axes[1,1])\n",
    "ax = sns.distplot(happy[\"X5\"], label = \"happy\", kde=False, bins =10, ax = axes[1,1])\n",
    "ax.legend()\n",
    "ax = sns.distplot(unhappy[\"X6\"], label = \"unhappy\", kde=False, bins =5, ax = axes[1,2])\n",
    "ax = sns.distplot(happy[\"X6\"], label = \"happy\", kde=False, bins =10, ax = axes[1,2])\n",
    "ax.legend()\n",
    "plt.show()"
   ]
  },
  {
   "attachments": {},
   "cell_type": "markdown",
   "metadata": {},
   "source": [
    "### Pre - Modelling"
   ]
  },
  {
   "attachments": {},
   "cell_type": "markdown",
   "metadata": {},
   "source": [
    "Define the features set, by copying the `surver_df` DataFrame and dropping the `Y` column."
   ]
  },
  {
   "cell_type": "code",
   "execution_count": 12,
   "metadata": {},
   "outputs": [
    {
     "data": {
      "text/html": [
       "<div>\n",
       "<style scoped>\n",
       "    .dataframe tbody tr th:only-of-type {\n",
       "        vertical-align: middle;\n",
       "    }\n",
       "\n",
       "    .dataframe tbody tr th {\n",
       "        vertical-align: top;\n",
       "    }\n",
       "\n",
       "    .dataframe thead th {\n",
       "        text-align: right;\n",
       "    }\n",
       "</style>\n",
       "<table border=\"1\" class=\"dataframe\">\n",
       "  <thead>\n",
       "    <tr style=\"text-align: right;\">\n",
       "      <th></th>\n",
       "      <th>X1</th>\n",
       "      <th>X2</th>\n",
       "      <th>X3</th>\n",
       "      <th>X4</th>\n",
       "      <th>X5</th>\n",
       "      <th>X6</th>\n",
       "    </tr>\n",
       "  </thead>\n",
       "  <tbody>\n",
       "    <tr>\n",
       "      <th>0</th>\n",
       "      <td>3</td>\n",
       "      <td>3</td>\n",
       "      <td>3</td>\n",
       "      <td>4</td>\n",
       "      <td>2</td>\n",
       "      <td>4</td>\n",
       "    </tr>\n",
       "    <tr>\n",
       "      <th>1</th>\n",
       "      <td>3</td>\n",
       "      <td>2</td>\n",
       "      <td>3</td>\n",
       "      <td>5</td>\n",
       "      <td>4</td>\n",
       "      <td>3</td>\n",
       "    </tr>\n",
       "    <tr>\n",
       "      <th>2</th>\n",
       "      <td>5</td>\n",
       "      <td>3</td>\n",
       "      <td>3</td>\n",
       "      <td>3</td>\n",
       "      <td>3</td>\n",
       "      <td>5</td>\n",
       "    </tr>\n",
       "    <tr>\n",
       "      <th>3</th>\n",
       "      <td>5</td>\n",
       "      <td>4</td>\n",
       "      <td>3</td>\n",
       "      <td>3</td>\n",
       "      <td>3</td>\n",
       "      <td>5</td>\n",
       "    </tr>\n",
       "    <tr>\n",
       "      <th>4</th>\n",
       "      <td>5</td>\n",
       "      <td>4</td>\n",
       "      <td>3</td>\n",
       "      <td>3</td>\n",
       "      <td>3</td>\n",
       "      <td>5</td>\n",
       "    </tr>\n",
       "  </tbody>\n",
       "</table>\n",
       "</div>"
      ],
      "text/plain": [
       "   X1  X2  X3  X4  X5  X6\n",
       "0   3   3   3   4   2   4\n",
       "1   3   2   3   5   4   3\n",
       "2   5   3   3   3   3   5\n",
       "3   5   4   3   3   3   5\n",
       "4   5   4   3   3   3   5"
      ]
     },
     "execution_count": 12,
     "metadata": {},
     "output_type": "execute_result"
    }
   ],
   "source": [
    "# Define features set\n",
    "X = survey_df.copy()\n",
    "X.drop('Y', axis=1, inplace=True)\n",
    "X.head()"
   ]
  },
  {
   "attachments": {},
   "cell_type": "markdown",
   "metadata": {},
   "source": [
    "Create the target vector by assigning the values of the `Y` column from the `survey_df` DataFrame."
   ]
  },
  {
   "cell_type": "code",
   "execution_count": 13,
   "metadata": {},
   "outputs": [
    {
     "data": {
      "text/plain": [
       "array([0, 0, 1, 0, 0], dtype=int64)"
      ]
     },
     "execution_count": 13,
     "metadata": {},
     "output_type": "execute_result"
    }
   ],
   "source": [
    "# Define target vector\n",
    "y = np.ravel(survey_df[\"Y\"])\n",
    "y[:5]\n"
   ]
  },
  {
   "cell_type": "code",
   "execution_count": 14,
   "metadata": {},
   "outputs": [],
   "source": [
    "# Split the dataset using train_test_split\n",
    "X_train, X_test, y_train, y_test = train_test_split(X, y, random_state=0, test_size = 0.2)"
   ]
  },
  {
   "cell_type": "code",
   "execution_count": 15,
   "metadata": {},
   "outputs": [
    {
     "data": {
      "text/plain": [
       "(100, 6)"
      ]
     },
     "execution_count": 15,
     "metadata": {},
     "output_type": "execute_result"
    }
   ],
   "source": [
    "# shape of training data\n",
    "X_train.shape"
   ]
  },
  {
   "cell_type": "code",
   "execution_count": 16,
   "metadata": {},
   "outputs": [
    {
     "data": {
      "text/plain": [
       "(26, 6)"
      ]
     },
     "execution_count": 16,
     "metadata": {},
     "output_type": "execute_result"
    }
   ],
   "source": [
    "# shape of testing data\n",
    "X_test.shape"
   ]
  },
  {
   "attachments": {},
   "cell_type": "markdown",
   "metadata": {},
   "source": [
    "## Machine Learning Models\n",
    "`Below, lets try out different models and compare their accuracy score`"
   ]
  },
  {
   "attachments": {},
   "cell_type": "markdown",
   "metadata": {},
   "source": [
    "#### Stochastic gradient descent (SGD) learning"
   ]
  },
  {
   "cell_type": "code",
   "execution_count": 17,
   "metadata": {},
   "outputs": [
    {
     "name": "stdout",
     "output_type": "stream",
     "text": [
      "accuracy_score: 57.69 %\n"
     ]
    }
   ],
   "source": [
    "# create a SGD classifier instance\n",
    "sgd = linear_model.SGDClassifier(max_iter=200, tol=None, random_state=50)\n",
    "\n",
    "# Fitting the model\n",
    "sgd.fit(X_train, y_train)\n",
    "\n",
    "# Making predictions using the testing data\n",
    "y_pred = sgd.predict(X_test)\n",
    "\n",
    "# Display the accuracy score for the test dataset.\n",
    "acc_sgd = accuracy_score(y_test, y_pred) * 100\n",
    "print(f\"accuracy_score: {round(acc_sgd,2,)} %\")"
   ]
  },
  {
   "attachments": {},
   "cell_type": "markdown",
   "metadata": {},
   "source": [
    "#### Random Forest Learning"
   ]
  },
  {
   "cell_type": "code",
   "execution_count": 18,
   "metadata": {},
   "outputs": [
    {
     "name": "stdout",
     "output_type": "stream",
     "text": [
      "accuracy_score: 53.85 %\n"
     ]
    }
   ],
   "source": [
    "# create a random forest instance\n",
    "random_forest = RandomForestClassifier(n_estimators=100, random_state=50)\n",
    "\n",
    "# Fitting the model\n",
    "random_forest.fit(X_train, y_train)\n",
    "\n",
    "# Making predictions using the testing data\n",
    "y_pred = random_forest.predict(X_test)\n",
    "\n",
    "# Display the accuracy score for the test dataset.\n",
    "acc_random_forest = accuracy_score(y_test, y_pred) * 100\n",
    "print(f\"accuracy_score: {round(acc_random_forest,2,)} %\")"
   ]
  },
  {
   "attachments": {},
   "cell_type": "markdown",
   "metadata": {},
   "source": [
    "#### Logistic Regression Model"
   ]
  },
  {
   "cell_type": "code",
   "execution_count": 19,
   "metadata": {},
   "outputs": [
    {
     "name": "stdout",
     "output_type": "stream",
     "text": [
      "accuracy_score: 61.54 %\n"
     ]
    }
   ],
   "source": [
    "# create a logistic regression instance\n",
    "logreg = LogisticRegression(max_iter=200, random_state=78)\n",
    "\n",
    "# Fitting the model\n",
    "logreg.fit(X_train, y_train)\n",
    "\n",
    "# Making predictions using the testing data\n",
    "y_pred = logreg.predict(X_test)\n",
    "\n",
    "# Display the accuracy score for the test dataset.\n",
    "acc_log = accuracy_score(y_test, y_pred) * 100\n",
    "print(f\"accuracy_score: {round(acc_log,2,)} %\")"
   ]
  },
  {
   "attachments": {},
   "cell_type": "markdown",
   "metadata": {},
   "source": [
    "#### Perceptron Learning Model"
   ]
  },
  {
   "cell_type": "code",
   "execution_count": 20,
   "metadata": {},
   "outputs": [
    {
     "name": "stdout",
     "output_type": "stream",
     "text": [
      "accuracy_score: 50.0 %\n"
     ]
    }
   ],
   "source": [
    "# create a perceptron instance\n",
    "perc = Perceptron(random_state=101)\n",
    "\n",
    "# Fitting the model\n",
    "perc.fit(X_train, y_train)\n",
    "\n",
    "# Making predictions using the testing data\n",
    "y_pred = perc.predict(X_test)\n",
    "\n",
    "# Display the accuracy score for the test dataset.\n",
    "acc_perc = accuracy_score(y_test, y_pred) * 100\n",
    "print(f\"accuracy_score: {round(acc_perc,2,)} %\")"
   ]
  },
  {
   "attachments": {},
   "cell_type": "markdown",
   "metadata": {},
   "source": [
    "#### Linear Support Vector Model"
   ]
  },
  {
   "cell_type": "code",
   "execution_count": 21,
   "metadata": {},
   "outputs": [
    {
     "name": "stdout",
     "output_type": "stream",
     "text": [
      "accuracy_score: 61.54 %\n"
     ]
    }
   ],
   "source": [
    "# create a linear SVC instance\n",
    "linear_svc = LinearSVC( max_iter=5000)\n",
    "\n",
    "# Fitting the model\n",
    "linear_svc.fit(X_train, y_train)\n",
    "\n",
    "# Making predictions using the testing data\n",
    "y_pred = linear_svc.predict(X_test)\n",
    "\n",
    "# Display the accuracy score for the test dataset.\n",
    "acc_linear_svc = accuracy_score(y_test, y_pred) * 100\n",
    "print(f\"accuracy_score: {round(acc_linear_svc,2,)} %\")"
   ]
  },
  {
   "attachments": {},
   "cell_type": "markdown",
   "metadata": {},
   "source": [
    "#### Gradient Boosting Model"
   ]
  },
  {
   "cell_type": "code",
   "execution_count": 22,
   "metadata": {},
   "outputs": [
    {
     "name": "stdout",
     "output_type": "stream",
     "text": [
      "accuracy_score: 50.0 %\n"
     ]
    }
   ],
   "source": [
    "# create a gradient boosting instance\n",
    "gbc=GradientBoostingClassifier(n_estimators=100, random_state=50)\n",
    "\n",
    "# Fitting the model\n",
    "gbc.fit(X_train, y_train)\n",
    "\n",
    "# Making predictions using the testing data\n",
    "y_pred = gbc.predict(X_test)\n",
    "\n",
    "# Display the accuracy score for the test dataset.\n",
    "acc_gbc = accuracy_score(y_test, y_pred) * 100\n",
    "print(f\"accuracy_score: {round(acc_gbc,2,)} %\")"
   ]
  },
  {
   "attachments": {},
   "cell_type": "markdown",
   "metadata": {},
   "source": [
    "#### Decision Tree Model"
   ]
  },
  {
   "cell_type": "code",
   "execution_count": 23,
   "metadata": {},
   "outputs": [
    {
     "name": "stdout",
     "output_type": "stream",
     "text": [
      "accuracy_score: 50.0 %\n"
     ]
    }
   ],
   "source": [
    "# create a decision tree classifier instance\n",
    "decision_tree = DecisionTreeClassifier(random_state=50)\n",
    "# Fitting the model\n",
    "decision_tree.fit(X_train, y_train)\n",
    "\n",
    "# Making predictions using the testing data\n",
    "y_pred = decision_tree.predict(X_test)\n",
    "\n",
    "# Display the accuracy score for the test dataset.\n",
    "acc_decision_tree = accuracy_score(y_test, y_pred) * 100\n",
    "print(f\"accuracy_score: {round(acc_decision_tree,2,)} %\")"
   ]
  },
  {
   "cell_type": "code",
   "execution_count": 24,
   "metadata": {},
   "outputs": [
    {
     "data": {
      "text/html": [
       "<div>\n",
       "<style scoped>\n",
       "    .dataframe tbody tr th:only-of-type {\n",
       "        vertical-align: middle;\n",
       "    }\n",
       "\n",
       "    .dataframe tbody tr th {\n",
       "        vertical-align: top;\n",
       "    }\n",
       "\n",
       "    .dataframe thead th {\n",
       "        text-align: right;\n",
       "    }\n",
       "</style>\n",
       "<table border=\"1\" class=\"dataframe\">\n",
       "  <thead>\n",
       "    <tr style=\"text-align: right;\">\n",
       "      <th></th>\n",
       "      <th>Model</th>\n",
       "    </tr>\n",
       "    <tr>\n",
       "      <th>Score</th>\n",
       "      <th></th>\n",
       "    </tr>\n",
       "  </thead>\n",
       "  <tbody>\n",
       "    <tr>\n",
       "      <th>61.538462</th>\n",
       "      <td>Logistic Regression</td>\n",
       "    </tr>\n",
       "    <tr>\n",
       "      <th>61.538462</th>\n",
       "      <td>Support Vector Machines</td>\n",
       "    </tr>\n",
       "    <tr>\n",
       "      <th>57.692308</th>\n",
       "      <td>Stochastic Gradient Decent</td>\n",
       "    </tr>\n",
       "    <tr>\n",
       "      <th>53.846154</th>\n",
       "      <td>Random Forest</td>\n",
       "    </tr>\n",
       "    <tr>\n",
       "      <th>50.000000</th>\n",
       "      <td>Gradient Boosting</td>\n",
       "    </tr>\n",
       "    <tr>\n",
       "      <th>50.000000</th>\n",
       "      <td>Perceptron</td>\n",
       "    </tr>\n",
       "    <tr>\n",
       "      <th>50.000000</th>\n",
       "      <td>Decision Tree</td>\n",
       "    </tr>\n",
       "  </tbody>\n",
       "</table>\n",
       "</div>"
      ],
      "text/plain": [
       "                                Model\n",
       "Score                                \n",
       "61.538462         Logistic Regression\n",
       "61.538462     Support Vector Machines\n",
       "57.692308  Stochastic Gradient Decent\n",
       "53.846154               Random Forest\n",
       "50.000000           Gradient Boosting\n",
       "50.000000                  Perceptron\n",
       "50.000000               Decision Tree"
      ]
     },
     "execution_count": 24,
     "metadata": {},
     "output_type": "execute_result"
    }
   ],
   "source": [
    "# compile scores for all models into a dataframe\n",
    "results = pd.DataFrame({\n",
    "    'Model': ['Gradient Boosting','Logistic Regression', 'Support Vector Machines',\n",
    "              'Random Forest', 'Perceptron', \n",
    "              'Stochastic Gradient Decent', \n",
    "              'Decision Tree'],\n",
    "    'Score': [acc_gbc, acc_log, acc_linear_svc,\n",
    "              acc_random_forest, acc_perc, \n",
    "              acc_sgd, acc_decision_tree]})\n",
    "result_df = results.sort_values(by='Score', ascending=False).set_index('Score')\n",
    "result_df"
   ]
  },
  {
   "attachments": {},
   "cell_type": "markdown",
   "metadata": {},
   "source": [
    "`From the table above, Logistic Regression Model had the highest accuracy score while the Decision Tree Model had the least accuracy score. Let's perform resampling using \"Cross-validation\" on both models (i.e., the logistic regression and decision tree model) to protect against overfitting because of the small size of our data.`"
   ]
  },
  {
   "attachments": {},
   "cell_type": "markdown",
   "metadata": {},
   "source": [
    "##### Cross-validation for logistic regression Model"
   ]
  },
  {
   "cell_type": "code",
   "execution_count": 25,
   "metadata": {},
   "outputs": [
    {
     "name": "stdout",
     "output_type": "stream",
     "text": [
      "Scores_logreg: [0.5  0.45 0.55 0.6  0.5 ]\n",
      "Mean_logreg: 0.52\n",
      "Standard Deviation_logreg: 0.05099019513592784\n"
     ]
    }
   ],
   "source": [
    "# Import cross val score \n",
    "from sklearn.model_selection import cross_val_score\n",
    "\n",
    "# create a stochastic gradient descent model instance\n",
    "logreg = LogisticRegression(max_iter=200, random_state=78)\n",
    "\n",
    "# set cross validation splitting strategy to 5\n",
    "scores_logreg = cross_val_score(logreg, X_train, y_train, \n",
    "                                        cv=5, scoring = \"accuracy\")\n",
    "\n",
    "# cross validation score for stochastic gradient descent model\n",
    "print(\"Scores_logreg:\", scores_logreg)\n",
    "print(\"Mean_logreg:\", scores_logreg.mean())\n",
    "print(\"Standard Deviation_logreg:\", scores_logreg.std())"
   ]
  },
  {
   "attachments": {},
   "cell_type": "markdown",
   "metadata": {},
   "source": [
    "##### Cross-validation for decision tree Model"
   ]
  },
  {
   "cell_type": "code",
   "execution_count": 26,
   "metadata": {},
   "outputs": [
    {
     "name": "stdout",
     "output_type": "stream",
     "text": [
      "Scores_dec_tree: [0.55 0.55 0.7  0.65 0.55]\n",
      "Mean_dec_tree: 0.6\n",
      "Standard Deviation_dec_tree: 0.06324555320336755\n"
     ]
    }
   ],
   "source": [
    "# Import cross val score \n",
    "from sklearn.model_selection import cross_val_score\n",
    "\n",
    "# create a stochastic gradient descent model instance\n",
    "decision_tree = DecisionTreeClassifier(random_state=50)\n",
    "\n",
    "# set cross validation splitting strategy to 5\n",
    "scores_decision_tree = cross_val_score(decision_tree, X_train, y_train, \n",
    "                                        cv=5, scoring = \"accuracy\")\n",
    "\n",
    "# cross validation score for stochastic gradient descent model\n",
    "print(\"Scores_dec_tree:\", scores_decision_tree)\n",
    "print(\"Mean_dec_tree:\", scores_decision_tree.mean())\n",
    "print(\"Standard Deviation_dec_tree:\", scores_decision_tree.std())"
   ]
  },
  {
   "attachments": {},
   "cell_type": "markdown",
   "metadata": {},
   "source": [
    "`Under cross-validation, Logistic Regression Model had an accuracy score of approx. 52% with a margin error of 5%, while the Deicion Tree model had an accuracy score of approx. 60% with an error margin of 6%.`"
   ]
  },
  {
   "attachments": {},
   "cell_type": "markdown",
   "metadata": {},
   "source": [
    "### Feature Importance\n",
    "`To futher improve accuracy score, decide on which feature to drop from dataset?`"
   ]
  },
  {
   "cell_type": "code",
   "execution_count": 27,
   "metadata": {},
   "outputs": [
    {
     "data": {
      "text/html": [
       "<div>\n",
       "<style scoped>\n",
       "    .dataframe tbody tr th:only-of-type {\n",
       "        vertical-align: middle;\n",
       "    }\n",
       "\n",
       "    .dataframe tbody tr th {\n",
       "        vertical-align: top;\n",
       "    }\n",
       "\n",
       "    .dataframe thead th {\n",
       "        text-align: right;\n",
       "    }\n",
       "</style>\n",
       "<table border=\"1\" class=\"dataframe\">\n",
       "  <thead>\n",
       "    <tr style=\"text-align: right;\">\n",
       "      <th></th>\n",
       "      <th>importance</th>\n",
       "    </tr>\n",
       "    <tr>\n",
       "      <th>feature</th>\n",
       "      <th></th>\n",
       "    </tr>\n",
       "  </thead>\n",
       "  <tbody>\n",
       "    <tr>\n",
       "      <th>X3</th>\n",
       "      <td>0.203152</td>\n",
       "    </tr>\n",
       "    <tr>\n",
       "      <th>X6</th>\n",
       "      <td>0.172898</td>\n",
       "    </tr>\n",
       "    <tr>\n",
       "      <th>X2</th>\n",
       "      <td>0.165996</td>\n",
       "    </tr>\n",
       "    <tr>\n",
       "      <th>X1</th>\n",
       "      <td>0.154654</td>\n",
       "    </tr>\n",
       "    <tr>\n",
       "      <th>X5</th>\n",
       "      <td>0.154514</td>\n",
       "    </tr>\n",
       "    <tr>\n",
       "      <th>X4</th>\n",
       "      <td>0.148786</td>\n",
       "    </tr>\n",
       "  </tbody>\n",
       "</table>\n",
       "</div>"
      ],
      "text/plain": [
       "         importance\n",
       "feature            \n",
       "X3         0.203152\n",
       "X6         0.172898\n",
       "X2         0.165996\n",
       "X1         0.154654\n",
       "X5         0.154514\n",
       "X4         0.148786"
      ]
     },
     "execution_count": 27,
     "metadata": {},
     "output_type": "execute_result"
    }
   ],
   "source": [
    "# Random Forests in sklearn will automatically calculate feature importance\n",
    "# We can then sort the features by their importance\n",
    "importances = pd.DataFrame(sorted(zip(random_forest.feature_importances_, X.columns), reverse=True))\n",
    "importances = importances.rename(columns={0:'importance', 1:'feature'})\n",
    "importances = importances.set_index(['feature'])\n",
    "importances"
   ]
  },
  {
   "cell_type": "code",
   "execution_count": 28,
   "metadata": {},
   "outputs": [
    {
     "data": {
      "text/plain": [
       "<matplotlib.axes._subplots.AxesSubplot at 0x1b747370688>"
      ]
     },
     "execution_count": 28,
     "metadata": {},
     "output_type": "execute_result"
    },
    {
     "data": {
      "image/png": "[encoded data removed]",
      "text/plain": [
       "<Figure size 432x288 with 1 Axes>"
      ]
     },
     "metadata": {
      "needs_background": "light"
     },
     "output_type": "display_data"
    }
   ],
   "source": [
    "# Visualize the features by importance\n",
    "importances.plot.bar(color='lightgreen', title= 'Features Importances', legend=False)"
   ]
  },
  {
   "attachments": {},
   "cell_type": "markdown",
   "metadata": {},
   "source": [
    "`From the feature importance chart, it appears that all feature may be significant when predicting a customer's happiness since their feature ranks in the same range. Thus all feature needs to be preserved in the next survey.`"
   ]
  },
  {
   "attachments": {},
   "cell_type": "markdown",
   "metadata": {},
   "source": [
    "#### K Nearest Neighbors Model\n",
    "`Let's try K_Nearest Neighbors Model `"
   ]
  },
  {
   "cell_type": "code",
   "execution_count": 29,
   "metadata": {},
   "outputs": [
    {
     "name": "stdout",
     "output_type": "stream",
     "text": [
      "n_neighbors: 23 ---> Best accuracy Score: 0.7444\n"
     ]
    }
   ],
   "source": [
    "# loop through selected range to determine best score\n",
    "# initialize variable to hold highest accuracy score\n",
    "highest_score = 0\n",
    "\n",
    "# loop \n",
    "for i in range(1,30):\n",
    "    kNN_model=KNeighborsClassifier(n_neighbors=i).fit(X_train, y_train)\n",
    "    y_pred=kNN_model.predict(X_test)\n",
    "    # print accuracy score for each n_neighbors\n",
    "    score = balanced_accuracy_score(y_pred, y_test)\n",
    "    \n",
    "    if score > highest_score:\n",
    "        highest_score = score\n",
    "        n_neighbors = i\n",
    "# print best accuracy score\n",
    "print(f\"n_neighbors: {n_neighbors} ---> Best accuracy Score: {round(highest_score,4)}\")"
   ]
  },
  {
   "cell_type": "code",
   "execution_count": 30,
   "metadata": {},
   "outputs": [
    {
     "name": "stdout",
     "output_type": "stream",
     "text": [
      "0.744360902255639\n"
     ]
    }
   ],
   "source": [
    "# create a knn model and fit data\n",
    "kNN_model=KNeighborsClassifier(n_neighbors=23).fit(X_train, y_train)\n",
    "# predict using the test data\n",
    "y_pred=kNN_model.predict(X_test)\n",
    "# Display the accuracy score for the test dataset.\n",
    "print(balanced_accuracy_score(y_pred, y_test))"
   ]
  },
  {
   "attachments": {},
   "cell_type": "markdown",
   "metadata": {},
   "source": [
    "## HyperParameter Tuning"
   ]
  },
  {
   "attachments": {},
   "cell_type": "markdown",
   "metadata": {},
   "source": [
    "`Now let's tune the logistic regression model to estimate the best hyperparameters that could further improve the accuracy score.`"
   ]
  },
  {
   "attachments": {},
   "cell_type": "markdown",
   "metadata": {},
   "source": [
    "#### Randomized SearchCV Tuning with logistic regression"
   ]
  },
  {
   "cell_type": "code",
   "execution_count": 31,
   "metadata": {},
   "outputs": [
    {
     "name": "stdout",
     "output_type": "stream",
     "text": [
      "-- Fine-tuning logistic regression classifier --\n",
      "--------------------- RandomizedSearchCV begins\n",
      "Fitting 30 folds for each of 10 candidates, totalling 300 fits\n",
      "--------------------- RandomizedSearchCV ends\n"
     ]
    },
    {
     "name": "stderr",
     "output_type": "stream",
     "text": [
      "c:\\Users\\evans\\anaconda3\\envs\\PythonData\\lib\\site-packages\\sklearn\\linear_model\\_sag.py:354: ConvergenceWarning: The max_iter was reached which means the coef_ did not converge\n",
      "  ConvergenceWarning,\n"
     ]
    },
    {
     "data": {
      "text/plain": [
       "({'C': 71, 'penalty': 'l2', 'solver': 'saga'}, 0.6166107966107965)"
      ]
     },
     "execution_count": 31,
     "metadata": {},
     "output_type": "execute_result"
    }
   ],
   "source": [
    "# Tune the parameters to improve the accuracy\n",
    "def tune_logreg_hyper_params( X_train, y_train):\n",
    "    # Import modules\n",
    "    from sklearn import linear_model\n",
    "    from sklearn.linear_model import LogisticRegression\n",
    "    from sklearn.model_selection import RepeatedStratifiedKFold\n",
    "    from sklearn.model_selection import RandomizedSearchCV\n",
    "    \n",
    "    print (\"-- {} --\".format(\"Fine-tuning logistic regression classifier\"))\n",
    "    \n",
    "    # initialize the hyperparameters\n",
    "    penalty = [ 'l2'] \n",
    "    solvers = ['lbfgs', 'liblinear', 'newton-cg', 'sag', 'saga']\n",
    "    c_values = sp_randint(0.01, 100)\n",
    "    cv = RepeatedStratifiedKFold(n_splits=10, n_repeats=3, random_state=1)\n",
    "\n",
    "    # input parameters\n",
    "    param_dist = dict(\n",
    "                        solver = solvers,\n",
    "                        penalty=penalty,\n",
    "                        C = c_values\n",
    "                )\n",
    "\n",
    "    # build logistic regression instance \n",
    "    logreg = LogisticRegression(max_iter=200, random_state=78)\n",
    "\n",
    "    # Randomized search\n",
    "    random_search = RandomizedSearchCV(estimator=logreg, \n",
    "                                        param_distributions=param_dist, \n",
    "                                        n_jobs=-1,\n",
    "                                        scoring='f1',\n",
    "                                        error_score=0,\n",
    "                                        cv= cv,\n",
    "                                        verbose= 1)\n",
    "\n",
    "    print (\"--------------------- RandomizedSearchCV begins\")\n",
    "    random_search.fit(X_train, y_train)\n",
    "    print (\"--------------------- RandomizedSearchCV ends\")\n",
    "\n",
    "    return random_search.best_params_, random_search.best_score_ \n",
    "\n",
    "tune_logreg_hyper_params(X_train, y_train)"
   ]
  },
  {
   "attachments": {},
   "cell_type": "markdown",
   "metadata": {},
   "source": [
    "##### Best hyper parameter using RandomizedSearchCV with logistic regression classifier"
   ]
  },
  {
   "cell_type": "code",
   "execution_count": 32,
   "metadata": {},
   "outputs": [
    {
     "name": "stdout",
     "output_type": "stream",
     "text": [
      "accuracy_score: 61.54 %\n"
     ]
    }
   ],
   "source": [
    "  # build logistic regression instance \n",
    "logreg = LogisticRegression(max_iter=200, \n",
    "                              random_state=78,\n",
    "                              penalty= 'l2',\n",
    "                              solver ='liblinear',\n",
    "                              C= 48\n",
    "                         )\n",
    "\n",
    "# # Fitting the model\n",
    "logreg.fit(X_train, y_train)\n",
    "\n",
    "# # Making predictions using the testing data\n",
    "y_pred_tuned = logreg.predict(X_test)\n",
    "\n",
    "# Display the accuracy score for the test dataset.\n",
    "acc_logreg_tuned = accuracy_score(y_test, y_pred_tuned) * 100\n",
    "print(f\"accuracy_score: {round(acc_logreg_tuned,2,)} %\")"
   ]
  },
  {
   "attachments": {},
   "cell_type": "markdown",
   "metadata": {},
   "source": [
    "`The logistic regression when tuned had a best score of approx. 62%. However when the logistic regression model was re-evaluated using the tuned hyperparameters, the accuracy score did not change. Because our cross validation showed a better accuracy score under decision tree Model, I therefore decided to repeat the tuning below using the Decision tree classifier`"
   ]
  },
  {
   "attachments": {},
   "cell_type": "markdown",
   "metadata": {},
   "source": [
    "#### Randomized SearchCV Tuning with Decision Tree Classifier"
   ]
  },
  {
   "cell_type": "code",
   "execution_count": 33,
   "metadata": {},
   "outputs": [
    {
     "name": "stdout",
     "output_type": "stream",
     "text": [
      "-- Fine-tuning decision tree Classifier --\n",
      "--------------------- RandomizedSearchCV begins\n",
      "Fitting 10 folds for each of 1000 candidates, totalling 10000 fits\n",
      "--------------------- RandomizedSearchCV ends\n"
     ]
    },
    {
     "data": {
      "text/plain": [
       "({'criterion': 'gini',\n",
       "  'max_leaf_nodes': 38,\n",
       "  'min_samples_leaf': 5,\n",
       "  'min_samples_split': 7,\n",
       "  'splitter': 'random'},\n",
       " 0.6499999999999999)"
      ]
     },
     "execution_count": 33,
     "metadata": {},
     "output_type": "execute_result"
    }
   ],
   "source": [
    "# Tune the parameters to improve the accuracy\n",
    "def tune_decision_tree_hyperparams( X_train, y_train):\n",
    "    # Import modules\n",
    "    from sklearn.tree import DecisionTreeClassifier\n",
    "    from sklearn.model_selection import RandomizedSearchCV\n",
    "    \n",
    "    print (\"-- {} --\".format(\"Fine-tuning decision tree Classifier\"))\n",
    "    \n",
    "    # initialize the hyperparameters\n",
    "    criterion = ['gini', 'entropy']\n",
    "    splitter = ['best', 'random']\n",
    "    min_samples_leaf= sp_randint(1,500)\n",
    "    min_samples_split= sp_randint(2,700) \n",
    "    max_leaf_nodes = sp_randint(2,1000)\n",
    "    n_iter_search = 1000\n",
    "\n",
    "    # input parameters\n",
    "    param_dist = dict(\n",
    "                        criterion=criterion,\n",
    "                        splitter=splitter,\n",
    "                        min_samples_leaf = min_samples_leaf,\n",
    "                        min_samples_split =min_samples_split,\n",
    "                        max_leaf_nodes=max_leaf_nodes\n",
    "                    )\n",
    "\n",
    "    # create decisionTree instance \n",
    "    decision_tree = DecisionTreeClassifier(random_state = 78)\n",
    "\n",
    "    # Randomized search\n",
    "    random_search = RandomizedSearchCV(estimator=decision_tree, \n",
    "                                        param_distributions=param_dist, \n",
    "                                        n_jobs=-1,\n",
    "                                        n_iter= n_iter_search, \n",
    "                                        cv=10,\n",
    "                                        verbose =1 )\n",
    "\n",
    "    print (\"--------------------- RandomizedSearchCV begins\")\n",
    "    random_search.fit(X_train, y_train)\n",
    "    print (\"--------------------- RandomizedSearchCV ends\")\n",
    "\n",
    "    return random_search.best_params_, random_search.best_score_ \n",
    "\n",
    "tune_decision_tree_hyperparams(X_train, y_train)"
   ]
  },
  {
   "attachments": {},
   "cell_type": "markdown",
   "metadata": {},
   "source": [
    "##### Best hyper parameter for RandomizedSearchCV with DecisionTree classifier"
   ]
  },
  {
   "cell_type": "code",
   "execution_count": 34,
   "metadata": {},
   "outputs": [
    {
     "name": "stdout",
     "output_type": "stream",
     "text": [
      "accuracy_score: 73.08 %\n"
     ]
    }
   ],
   "source": [
    "# build decisionTree instance with tuned paramaters\n",
    "decision_tree_tuned =DecisionTreeClassifier (criterion='gini',\n",
    "                                             splitter='best',\n",
    "                                             min_samples_leaf = 21,\n",
    "                                             min_samples_split =38,\n",
    "                                             max_leaf_nodes =179\n",
    "                                        )\n",
    "\n",
    "# Fitting the model\n",
    "decision_tree_tuned.fit(X_train, y_train)\n",
    "\n",
    "# Making predictions using the testing data\n",
    "y_pred_tuned = decision_tree_tuned.predict(X_test)\n",
    "\n",
    "# Display the accuracy score for the test dataset.\n",
    "acc_decision_tree = accuracy_score(y_test, y_pred_tuned) * 100\n",
    "print(f\"accuracy_score: {round(acc_decision_tree,2,)} %\")"
   ]
  },
  {
   "attachments": {},
   "cell_type": "markdown",
   "metadata": {},
   "source": [
    "`The accuracy score improves further under decision tree model. Now that we have a proper model, we can start evaluating it's performace in a more accurate way.`"
   ]
  },
  {
   "attachments": {},
   "cell_type": "markdown",
   "metadata": {},
   "source": [
    "## Further evaluation"
   ]
  },
  {
   "attachments": {},
   "cell_type": "markdown",
   "metadata": {},
   "source": [
    "#### Confusion Matrix"
   ]
  },
  {
   "cell_type": "code",
   "execution_count": 35,
   "metadata": {},
   "outputs": [],
   "source": [
    "# Function to plot heatmap of confusion matrix\n",
    "def plot_conf_matrix (conf_matrix, dtype):\n",
    "    class_names = [\"Unhappy\",\"Happy\"]\n",
    "    fontsize=14\n",
    "    df_conf_matrix = pd.DataFrame(\n",
    "            conf_matrix, index=class_names, columns=class_names, \n",
    "        )\n",
    "    fig = plt.figure()\n",
    "    heatmap = sns.heatmap(df_conf_matrix, annot=True, fmt=\"d\")\n",
    "    heatmap.yaxis.set_ticklabels(heatmap.yaxis.get_ticklabels(), rotation=45, ha='right', fontsize=fontsize)\n",
    "    heatmap.xaxis.set_ticklabels(heatmap.xaxis.get_ticklabels(), rotation=45, ha='right', fontsize=fontsize)\n",
    "    plt.ylabel('Actual label', size =18)\n",
    "    plt.xlabel('Predicted label', size =18)\n",
    "    plt.title('Confusion Matrix for {0}'.format(dtype), size =20)"
   ]
  },
  {
   "cell_type": "code",
   "execution_count": 36,
   "metadata": {},
   "outputs": [
    {
     "data": {
      "image/png": "[encoded data removed]",
      "text/plain": [
       "<Figure size 432x288 with 2 Axes>"
      ]
     },
     "metadata": {
      "needs_background": "light"
     },
     "output_type": "display_data"
    }
   ],
   "source": [
    "# Fitting the model using the tuned Decision Tree model\n",
    "decision_tree_tuned.fit(X_train, y_train)\n",
    "# plot confusion matrix\n",
    "plot_conf_matrix(confusion_matrix(y_test, decision_tree_tuned.predict(X_test)), \"Test data\")"
   ]
  },
  {
   "attachments": {},
   "cell_type": "markdown",
   "metadata": {},
   "source": [
    "`The first row is about the unhappy customers: 9 customers were correctly classified as not happyy (i.e., true negatives) and 4 customers were wrongly classified as unhappy (false negatives). In the second row, 3 customers were wrongly classified as happy (i.e., false positives) and 10 were correctly classed as happy customers (i.e., true positives).`"
   ]
  },
  {
   "attachments": {},
   "cell_type": "markdown",
   "metadata": {},
   "source": [
    "#### Classification Report"
   ]
  },
  {
   "cell_type": "code",
   "execution_count": 37,
   "metadata": {},
   "outputs": [
    {
     "name": "stdout",
     "output_type": "stream",
     "text": [
      "                   precision    recall  f1-score   support\n",
      "\n",
      "unhappy customers       0.75      0.69      0.72        13\n",
      "  happy customers       0.71      0.77      0.74        13\n",
      "\n",
      "         accuracy                           0.73        26\n",
      "        macro avg       0.73      0.73      0.73        26\n",
      "     weighted avg       0.73      0.73      0.73        26\n",
      "\n"
     ]
    }
   ],
   "source": [
    "# Import module for classification\n",
    "from sklearn.metrics import classification_report\n",
    "\n",
    "# create target names for classification\n",
    "target_names = [\"unhappy customers\", \"happy customers\"]\n",
    "print(classification_report(y_test, y_pred_tuned, target_names=target_names))"
   ]
  },
  {
   "attachments": {},
   "cell_type": "markdown",
   "metadata": {},
   "source": [
    "`Our model predicts 75% of the time that the customers are unhappy and 71% of the time that the customers are happy. The recall measures the correctness of the model in identifying true positives. Thus, the recall reveals that it predicted 69% of customers were unhappy out of actual unhappy customers while 77% were happy out of the actual happy customers.`\n",
    "`We have a F-score of 72% and 74% for unhappy and happy customers, respectively. The score is not that high, because we have a recall of 69% for the unhappy customers and a precision of 71% for the happy customers. As a result of that, the classifier will only get a high F-score, if both recall and precision are high`"
   ]
  },
  {
   "attachments": {},
   "cell_type": "markdown",
   "metadata": {},
   "source": [
    "#### Precision Recall Curve"
   ]
  },
  {
   "cell_type": "code",
   "execution_count": 38,
   "metadata": {},
   "outputs": [],
   "source": [
    "from sklearn.metrics import precision_recall_curve\n",
    "\n",
    "# getting the probabilities of our predictions\n",
    "y_scores = decision_tree_tuned.predict_proba(X_test)\n",
    "y_scores = y_scores[:,1]\n",
    "\n",
    "precision, recall, threshold = precision_recall_curve(y_test, y_scores)"
   ]
  },
  {
   "cell_type": "code",
   "execution_count": 39,
   "metadata": {},
   "outputs": [
    {
     "data": {
      "text/plain": [
       "<sklearn.metrics._plot.precision_recall_curve.PrecisionRecallDisplay at 0x1b747557088>"
      ]
     },
     "execution_count": 39,
     "metadata": {},
     "output_type": "execute_result"
    },
    {
     "data": {
      "image/png": "[encoded data removed]",
      "text/plain": [
       "<Figure size 432x288 with 1 Axes>"
      ]
     },
     "metadata": {
      "needs_background": "light"
     },
     "output_type": "display_data"
    }
   ],
   "source": [
    "# Plot the precision and recall curve\n",
    "from sklearn.metrics import PrecisionRecallDisplay\n",
    "prd = PrecisionRecallDisplay(precision, recall)\n",
    "prd.plot()"
   ]
  },
  {
   "attachments": {},
   "cell_type": "markdown",
   "metadata": {},
   "source": [
    "### Summary"
   ]
  },
  {
   "attachments": {},
   "cell_type": "markdown",
   "metadata": {},
   "source": [
    "\n",
    "`This project aimed to predict if a customer was happy or not based on the answers they give to a series of survey on customer cohort. `\n",
    "\n",
    "`The first step of this project was data exploration where I learnt about the structure of the dataset, checked for missing data estimated the correlation between each feature.  Afterwards I built 7 models and trained each of them. I also built a KNN classifier which returned an accuracy score of  74%. Further, I determined the accuracy score of the 7 models and selected the best (logistic regression model) as well as the least best (decision tree). The accuracy score estimated from the cross-validation method informed my decision to also tune the decision tree model for the best hyperparameters. The accuracy score under the cross-validation method was 60% and 52% but 50% and 62% without the cross-validation approach for the decision tree model and logistic regression model, respectively. After tuning both models, only the decision tree model achieved a higher accuracy score of 73%. Lastly I took a look at it's confusion matrix and computed the model's precision, recall and F-score`\n",
    "\n",
    "`Further improvement can still be done to improve the result. For example, an extensive hyperparameter tuning on each of the other learning models. `"
   ]
  }
 ],
 "metadata": {
  "kernelspec": {
   "display_name": "PythonData",
   "language": "python",
   "name": "python3"
  },
  "language_info": {
   "codemirror_mode": {
    "name": "ipython",
    "version": 3
   },
   "file_extension": ".py",
   "mimetype": "text/x-python",
   "name": "python",
   "nbconvert_exporter": "python",
   "pygments_lexer": "ipython3",
   "version": "3.7.7"
  },
  "orig_nbformat": 4
 },
 "nbformat": 4,
 "nbformat_minor": 2
}
